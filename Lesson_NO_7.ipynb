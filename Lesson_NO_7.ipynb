{
  "nbformat": 4,
  "nbformat_minor": 0,
  "metadata": {
    "colab": {
      "provenance": []
    },
    "kernelspec": {
      "name": "python3",
      "display_name": "Python 3"
    },
    "language_info": {
      "name": "python"
    }
  },
  "cells": [
    {
      "cell_type": "markdown",
      "source": [
        "**1. Create a set of 5 fruits**"
      ],
      "metadata": {
        "id": "TI4GlcmEKhSv"
      }
    },
    {
      "cell_type": "code",
      "execution_count": 29,
      "metadata": {
        "colab": {
          "base_uri": "https://localhost:8080/"
        },
        "id": "YFCzIJt9Eoqh",
        "outputId": "0083cc27-7365-4517-8744-9ac02495af59"
      },
      "outputs": [
        {
          "output_type": "stream",
          "name": "stdout",
          "text": [
            "1. Fruits: {'orange', 'banana', 'mango', 'apple', 'kiwi'}\n"
          ]
        }
      ],
      "source": [
        "fruits = {\"apple\", \"banana\", \"orange\", \"mango\", \"kiwi\"}\n",
        "print(\"1. Fruits:\", fruits)"
      ]
    },
    {
      "cell_type": "markdown",
      "source": [
        "**2. Add one new fruit**"
      ],
      "metadata": {
        "id": "PQ8gSMMRK3J6"
      }
    },
    {
      "cell_type": "code",
      "source": [
        "fruits.add(\"grapes\")\n",
        "print(\"2. After adding grapes:\", fruits)"
      ],
      "metadata": {
        "colab": {
          "base_uri": "https://localhost:8080/"
        },
        "id": "xHj0TCn4KW4s",
        "outputId": "2dc01fb4-57b4-4ce5-ed82-9bd76cc4c2fd"
      },
      "execution_count": 30,
      "outputs": [
        {
          "output_type": "stream",
          "name": "stdout",
          "text": [
            "2. After adding grapes: {'orange', 'grapes', 'banana', 'mango', 'apple', 'kiwi'}\n"
          ]
        }
      ]
    },
    {
      "cell_type": "markdown",
      "source": [
        "**3. Remove a fruit using .remove()**"
      ],
      "metadata": {
        "id": "ZIr1SL25LIYZ"
      }
    },
    {
      "cell_type": "code",
      "source": [
        "fruits.remove(\"banana\")\n",
        "print(\"3. After removing banana:\", fruits)"
      ],
      "metadata": {
        "colab": {
          "base_uri": "https://localhost:8080/"
        },
        "id": "nMQVJ-hgKXIb",
        "outputId": "d729ef80-c56f-42bd-95d7-f39829fa9b95"
      },
      "execution_count": 31,
      "outputs": [
        {
          "output_type": "stream",
          "name": "stdout",
          "text": [
            "3. After removing banana: {'orange', 'grapes', 'mango', 'apple', 'kiwi'}\n"
          ]
        }
      ]
    },
    {
      "cell_type": "markdown",
      "source": [
        "**4. Remove a fruit using .discard()**"
      ],
      "metadata": {
        "id": "CFFFSS66LSpE"
      }
    },
    {
      "cell_type": "code",
      "source": [
        "fruits.discard(\"orange\")\n",
        "print(\"4. After discarding orange:\", fruits)"
      ],
      "metadata": {
        "colab": {
          "base_uri": "https://localhost:8080/"
        },
        "id": "VTRTLSpjKXWC",
        "outputId": "ca82e893-539a-4ec3-fd49-0fc19d0040cd"
      },
      "execution_count": 32,
      "outputs": [
        {
          "output_type": "stream",
          "name": "stdout",
          "text": [
            "4. After discarding orange: {'grapes', 'mango', 'apple', 'kiwi'}\n"
          ]
        }
      ]
    },
    {
      "cell_type": "markdown",
      "source": [
        "**5. Remove an arbitrary item using .pop()**"
      ],
      "metadata": {
        "id": "atcFeXe_Lgap"
      }
    },
    {
      "cell_type": "code",
      "source": [
        "popped = fruits.pop()\n",
        "print(\"5. Popped item:\", popped)\n",
        "print(\"   Remaining fruits:\", fruits)"
      ],
      "metadata": {
        "colab": {
          "base_uri": "https://localhost:8080/"
        },
        "id": "QG7yGTFeKXjN",
        "outputId": "dc294621-b6f6-4933-81c2-a6eec7fecb42"
      },
      "execution_count": 33,
      "outputs": [
        {
          "output_type": "stream",
          "name": "stdout",
          "text": [
            "5. Popped item: grapes\n",
            "   Remaining fruits: {'mango', 'apple', 'kiwi'}\n"
          ]
        }
      ]
    },
    {
      "cell_type": "markdown",
      "source": [
        "**6. Clear all items using .clear()**"
      ],
      "metadata": {
        "id": "oyVivQEnMBkl"
      }
    },
    {
      "cell_type": "code",
      "source": [
        "fruits.clear()\n",
        "print(\"6. After clearing all:\", fruits)"
      ],
      "metadata": {
        "colab": {
          "base_uri": "https://localhost:8080/"
        },
        "id": "Lp9VN2bgKXwT",
        "outputId": "bd475349-8a16-4545-d9d9-f2bbec175bea"
      },
      "execution_count": 34,
      "outputs": [
        {
          "output_type": "stream",
          "name": "stdout",
          "text": [
            "6. After clearing all: set()\n"
          ]
        }
      ]
    },
    {
      "cell_type": "markdown",
      "source": [
        "**7. Create two sets of numbers**"
      ],
      "metadata": {
        "id": "3RqRMabKMZcr"
      }
    },
    {
      "cell_type": "code",
      "source": [
        "setA = {1, 2, 3, 4, 5}\n",
        "setB = {4, 5, 6, 7, 8}\n",
        "print(\"7. Set A:\", setA)\n",
        "print(\"   Set B:\", setB)\n",
        "print(\"   Union:\", setA.union(setB))\n",
        "print(\"   Difference (A-B):\", setA.difference(setB))\n",
        "print(\"   Symmetric Difference:\", setA.symmetric_difference(setB))"
      ],
      "metadata": {
        "colab": {
          "base_uri": "https://localhost:8080/"
        },
        "id": "k-J2StRFKX8R",
        "outputId": "229e6c7c-07b6-4949-c4ef-d66b703d0d46"
      },
      "execution_count": 35,
      "outputs": [
        {
          "output_type": "stream",
          "name": "stdout",
          "text": [
            "7. Set A: {1, 2, 3, 4, 5}\n",
            "   Set B: {4, 5, 6, 7, 8}\n",
            "   Union: {1, 2, 3, 4, 5, 6, 7, 8}\n",
            "   Difference (A-B): {1, 2, 3}\n",
            "   Symmetric Difference: {1, 2, 3, 6, 7, 8}\n"
          ]
        }
      ]
    },
    {
      "cell_type": "markdown",
      "source": [
        "**8. Check subset/superset**"
      ],
      "metadata": {
        "id": "erwU2GCHM1lN"
      }
    },
    {
      "cell_type": "code",
      "source": [
        "setC = {2, 3}\n",
        "setD = {1, 2, 3, 4}\n",
        "print(\"8. Is C a subset of D?\", setC.issubset(setD))\n",
        "print(\"   Is D a superset of C?\", setD.issuperset(setC))\n"
      ],
      "metadata": {
        "colab": {
          "base_uri": "https://localhost:8080/"
        },
        "id": "l9NOm0GDKYJa",
        "outputId": "572823b4-808a-4786-c128-1fb442cb91e5"
      },
      "execution_count": 36,
      "outputs": [
        {
          "output_type": "stream",
          "name": "stdout",
          "text": [
            "8. Is C a subset of D? True\n",
            "   Is D a superset of C? True\n"
          ]
        }
      ]
    },
    {
      "cell_type": "markdown",
      "source": [
        "**9. Create a frozenset of vowels**"
      ],
      "metadata": {
        "id": "JAG43nBRNA0h"
      }
    },
    {
      "cell_type": "code",
      "source": [
        "vowels = frozenset([\"a\", \"e\", \"i\", \"o\", \"u\"])\n",
        "print(\"9. Frozenset of vowels:\", vowels)"
      ],
      "metadata": {
        "colab": {
          "base_uri": "https://localhost:8080/"
        },
        "id": "hewPuACBKYWl",
        "outputId": "9be207e9-eeba-43d3-ded5-1845fabbb230"
      },
      "execution_count": 37,
      "outputs": [
        {
          "output_type": "stream",
          "name": "stdout",
          "text": [
            "9. Frozenset of vowels: frozenset({'i', 'o', 'e', 'a', 'u'})\n"
          ]
        }
      ]
    },
    {
      "cell_type": "markdown",
      "source": [
        "**10. Check membership using a loop**"
      ],
      "metadata": {
        "id": "Hnbz48GmNNxR"
      }
    },
    {
      "cell_type": "code",
      "source": [
        "user_char = input(\"Enter a character: \")\n",
        "if user_char in vowels:\n",
        "    print(user_char, \"is a vowel\")\n",
        "else:\n",
        "    print(user_char, \"is not a vowel\")"
      ],
      "metadata": {
        "colab": {
          "base_uri": "https://localhost:8080/"
        },
        "id": "ibMY2rStKYlp",
        "outputId": "0873b271-4d22-4102-ec22-b027f0d05fe6"
      },
      "execution_count": 38,
      "outputs": [
        {
          "output_type": "stream",
          "name": "stdout",
          "text": [
            "Enter a character: 3\n",
            "3 is not a vowel\n"
          ]
        }
      ]
    }
  ]
}