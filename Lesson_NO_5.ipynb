{
  "nbformat": 4,
  "nbformat_minor": 0,
  "metadata": {
    "colab": {
      "provenance": []
    },
    "kernelspec": {
      "name": "python3",
      "display_name": "Python 3"
    },
    "language_info": {
      "name": "python"
    }
  },
  "cells": [
    {
      "cell_type": "markdown",
      "source": [
        "positive / negative /zero"
      ],
      "metadata": {
        "id": "7W-DSTiOCH17"
      }
    },
    {
      "cell_type": "code",
      "execution_count": 14,
      "metadata": {
        "colab": {
          "base_uri": "https://localhost:8080/"
        },
        "id": "UyJREJXxBpnf",
        "outputId": "d45d635d-4d02-4e0b-938e-7be9a1f4a839"
      },
      "outputs": [
        {
          "output_type": "stream",
          "name": "stdout",
          "text": [
            "positive\n"
          ]
        }
      ],
      "source": [
        "num = 2\n",
        "\n",
        "if num > 0:\n",
        "    print(\"positive\")\n",
        "elif num < 0:\n",
        "    print(\"negative\")\n",
        "else:\n",
        "    print(\"zero\")\n"
      ]
    },
    {
      "cell_type": "markdown",
      "source": [
        "Even or Odd"
      ],
      "metadata": {
        "id": "vnoLi9VHChWc"
      }
    },
    {
      "cell_type": "code",
      "source": [
        "num = 7\n",
        "\n",
        "if num % 2 == 0:\n",
        "    print(\"even\")\n",
        "else:\n",
        "    print(\"odd\")"
      ],
      "metadata": {
        "colab": {
          "base_uri": "https://localhost:8080/"
        },
        "id": "0rIcAYdwCSs2",
        "outputId": "1150f581-9a90-42e3-dac1-53b533ca58d4"
      },
      "execution_count": 15,
      "outputs": [
        {
          "output_type": "stream",
          "name": "stdout",
          "text": [
            "odd\n"
          ]
        }
      ]
    },
    {
      "cell_type": "markdown",
      "source": [
        " Voting Eligibility"
      ],
      "metadata": {
        "id": "cLPqFem_C2nz"
      }
    },
    {
      "cell_type": "code",
      "source": [
        "age = 17\n",
        "\n",
        "if age >= 18:\n",
        "    print(\"eligible to vote\")\n",
        "else:\n",
        "    print(\"not eligible to vote\")"
      ],
      "metadata": {
        "colab": {
          "base_uri": "https://localhost:8080/"
        },
        "id": "ObXAjJy2CqRi",
        "outputId": "69851fec-9c43-45d6-bc23-14f9bd809266"
      },
      "execution_count": 16,
      "outputs": [
        {
          "output_type": "stream",
          "name": "stdout",
          "text": [
            "not eligible to vote\n"
          ]
        }
      ]
    },
    {
      "cell_type": "markdown",
      "source": [
        "Divisible by 3, 5, or Both"
      ],
      "metadata": {
        "id": "l9O92NDQD1kh"
      }
    },
    {
      "cell_type": "code",
      "source": [
        "num = 30\n",
        "\n",
        "if num % 3 == 0 and num % 5 == 0:\n",
        "    print(\"divisible by both 3 and 5\")\n",
        "elif num % 3 == 0:\n",
        "    print(\"divisible by 3\")\n",
        "elif num % 5 == 0:\n",
        "    print(\"divisible by 5\")\n",
        "else:\n",
        "    print(\"not divisible by 3 or 5\")"
      ],
      "metadata": {
        "colab": {
          "base_uri": "https://localhost:8080/"
        },
        "id": "6tQ9pFwmC5Hs",
        "outputId": "714470a2-f5f7-43c5-c53d-ff01ec481aa5"
      },
      "execution_count": 17,
      "outputs": [
        {
          "output_type": "stream",
          "name": "stdout",
          "text": [
            "divisible by both 3 and 5\n"
          ]
        }
      ]
    },
    {
      "cell_type": "markdown",
      "source": [
        "Grade using if/elif/else"
      ],
      "metadata": {
        "id": "i2EYMmGKEClu"
      }
    },
    {
      "cell_type": "code",
      "source": [
        "marks = 82.5\n",
        "\n",
        "if marks >= 90:\n",
        "    print(\"A+\")\n",
        "elif marks >= 80:\n",
        "    print(\"A\")\n",
        "elif marks >= 70:\n",
        "    print(\"B\")\n",
        "elif marks >= 60:\n",
        "    print(\"C\")\n",
        "elif marks >= 50:\n",
        "    print(\"D\")\n",
        "else:\n",
        "    print(\"Fail\")"
      ],
      "metadata": {
        "colab": {
          "base_uri": "https://localhost:8080/"
        },
        "id": "AmHwxGwbD4lu",
        "outputId": "72dc402b-229a-470e-a2a7-15ae761c3ee4"
      },
      "execution_count": 18,
      "outputs": [
        {
          "output_type": "stream",
          "name": "stdout",
          "text": [
            "A\n"
          ]
        }
      ]
    },
    {
      "cell_type": "markdown",
      "source": [
        "Print numbers 1 to 10"
      ],
      "metadata": {
        "id": "UuWrOzMjE8Sk"
      }
    },
    {
      "cell_type": "code",
      "source": [
        "for taha in range(1, 11):\n",
        "    print(taha)"
      ],
      "metadata": {
        "colab": {
          "base_uri": "https://localhost:8080/"
        },
        "id": "BOb_Snm9EUCS",
        "outputId": "835d3760-4880-4e1c-8a05-126d815cc5fd"
      },
      "execution_count": 19,
      "outputs": [
        {
          "output_type": "stream",
          "name": "stdout",
          "text": [
            "1\n",
            "2\n",
            "3\n",
            "4\n",
            "5\n",
            "6\n",
            "7\n",
            "8\n",
            "9\n",
            "10\n"
          ]
        }
      ]
    },
    {
      "cell_type": "markdown",
      "source": [
        "Multiplication Table of 6"
      ],
      "metadata": {
        "id": "O0RYUFnAFmVo"
      }
    },
    {
      "cell_type": "code",
      "source": [
        "for i in range(1, 6):\n",
        "    print(f\"6 x {i} = {6 * i}\")"
      ],
      "metadata": {
        "colab": {
          "base_uri": "https://localhost:8080/"
        },
        "id": "l6YCEeIcE_y0",
        "outputId": "7fbb4f33-f14b-4326-b8c5-9513a62c604c"
      },
      "execution_count": 20,
      "outputs": [
        {
          "output_type": "stream",
          "name": "stdout",
          "text": [
            "6 x 1 = 6\n",
            "6 x 2 = 12\n",
            "6 x 3 = 18\n",
            "6 x 4 = 24\n",
            "6 x 5 = 30\n"
          ]
        }
      ]
    },
    {
      "cell_type": "markdown",
      "source": [
        "All Even Numbers between 1 and 20"
      ],
      "metadata": {
        "id": "_bqP5ezAGA1i"
      }
    },
    {
      "cell_type": "code",
      "source": [
        "for i in range(1, 21):\n",
        "    if i % 2 == 0:\n",
        "        print(i)"
      ],
      "metadata": {
        "colab": {
          "base_uri": "https://localhost:8080/"
        },
        "id": "LkQRcNcDFpUC",
        "outputId": "4ded1f14-93e8-43b2-d5c3-3021b5112015"
      },
      "execution_count": 21,
      "outputs": [
        {
          "output_type": "stream",
          "name": "stdout",
          "text": [
            "2\n",
            "4\n",
            "6\n",
            "8\n",
            "10\n",
            "12\n",
            "14\n",
            "16\n",
            "18\n",
            "20\n"
          ]
        }
      ]
    },
    {
      "cell_type": "markdown",
      "source": [
        "Print Each Letter of a Word"
      ],
      "metadata": {
        "id": "oN_halUcGYpl"
      }
    },
    {
      "cell_type": "code",
      "source": [
        "word = \"hello\"\n",
        "\n",
        "for ch in word:\n",
        "    print(ch)\n"
      ],
      "metadata": {
        "colab": {
          "base_uri": "https://localhost:8080/"
        },
        "id": "rjrmXz2MGPeb",
        "outputId": "4354f5a7-a62f-40ec-d276-d38c46d123bf"
      },
      "execution_count": 22,
      "outputs": [
        {
          "output_type": "stream",
          "name": "stdout",
          "text": [
            "h\n",
            "e\n",
            "l\n",
            "l\n",
            "o\n"
          ]
        }
      ]
    },
    {
      "cell_type": "markdown",
      "source": [
        "Count Vowels in \"education\""
      ],
      "metadata": {
        "id": "l98LDio3GphZ"
      }
    },
    {
      "cell_type": "code",
      "source": [
        "word = \"education\"\n",
        "vowels = \"aeiouAEIOU\"\n",
        "count = 0\n",
        "\n",
        "for ch in word:\n",
        "    if ch in vowels:\n",
        "        count += 1\n",
        "\n",
        "print(\"vowel count:\", count)"
      ],
      "metadata": {
        "colab": {
          "base_uri": "https://localhost:8080/"
        },
        "id": "ePuYnAd0GgxE",
        "outputId": "656910d7-a843-4dd3-c93e-2fc85700277a"
      },
      "execution_count": 23,
      "outputs": [
        {
          "output_type": "stream",
          "name": "stdout",
          "text": [
            "vowel count: 5\n"
          ]
        }
      ]
    }
  ]
}