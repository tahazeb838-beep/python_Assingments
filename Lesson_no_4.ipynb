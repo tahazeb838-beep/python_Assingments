{
  "nbformat": 4,
  "nbformat_minor": 0,
  "metadata": {
    "colab": {
      "provenance": []
    },
    "kernelspec": {
      "name": "python3",
      "display_name": "Python 3"
    },
    "language_info": {
      "name": "python"
    }
  },
  "cells": [
    {
      "cell_type": "markdown",
      "source": [
        "Create a variable with your name and print each character using a loop"
      ],
      "metadata": {
        "id": "fHct0o3WSKt2"
      }
    },
    {
      "cell_type": "code",
      "execution_count": null,
      "metadata": {
        "colab": {
          "base_uri": "https://localhost:8080/"
        },
        "id": "ne-sjLCjR-Du",
        "outputId": "7c011c68-7509-4d35-921d-7388c41b4135"
      },
      "outputs": [
        {
          "output_type": "stream",
          "name": "stdout",
          "text": [
            "T\n",
            "a\n",
            "h\n",
            "a\n"
          ]
        }
      ],
      "source": [
        "name = \"Taha\"\n",
        "for char in name:\n",
        "    print(char)"
      ]
    },
    {
      "cell_type": "markdown",
      "source": [
        "Use slicing to print the first 4 characters of a string"
      ],
      "metadata": {
        "id": "sBoTjPy7ShH4"
      }
    },
    {
      "cell_type": "code",
      "source": [
        "text = \"PythonProgramming\"\n",
        "print(text[:4])"
      ],
      "metadata": {
        "colab": {
          "base_uri": "https://localhost:8080/"
        },
        "id": "DY4qIe0HSYWv",
        "outputId": "a3b88dfc-0267-413b-c747-baf3cddd8286"
      },
      "execution_count": null,
      "outputs": [
        {
          "output_type": "stream",
          "name": "stdout",
          "text": [
            "Pyth\n"
          ]
        }
      ]
    },
    {
      "cell_type": "markdown",
      "source": [
        "Ask the user to input a number as a string, convert it to int, add 10, and print the result"
      ],
      "metadata": {
        "id": "lQ8MTVXSSv84"
      }
    },
    {
      "cell_type": "code",
      "source": [
        "num = input(\"Enter a number: \")\n",
        "num = int(num)\n",
        "print(num + 10)"
      ],
      "metadata": {
        "colab": {
          "base_uri": "https://localhost:8080/"
        },
        "id": "QhEC3T8tSYxd",
        "outputId": "c94158bb-8e86-46aa-8471-90aad1109600"
      },
      "execution_count": null,
      "outputs": [
        {
          "output_type": "stream",
          "name": "stdout",
          "text": [
            "Enter a number: 1\n",
            "11\n"
          ]
        }
      ]
    },
    {
      "cell_type": "markdown",
      "source": [
        "Create a list of string numbers like [\"10\", \"20\", \"30\"], convert to int, and print updated list"
      ],
      "metadata": {
        "id": "9DTwycBxTDo5"
      }
    },
    {
      "cell_type": "code",
      "source": [
        "str_list = [\"10\", \"20\", \"30\"]\n",
        "int_list = [int(x) for x in str_list]\n",
        "print(int_list)"
      ],
      "metadata": {
        "colab": {
          "base_uri": "https://localhost:8080/"
        },
        "id": "3zhZy_41SZC1",
        "outputId": "343a6db1-9fb1-46d1-9f4a-d20d659104e4"
      },
      "execution_count": null,
      "outputs": [
        {
          "output_type": "stream",
          "name": "stdout",
          "text": [
            "[10, 20, 30]\n"
          ]
        }
      ]
    },
    {
      "cell_type": "markdown",
      "source": [
        "Check if \"Python\" is in a string using in and print a message"
      ],
      "metadata": {
        "id": "3DNKrXJfTLbS"
      }
    },
    {
      "cell_type": "code",
      "source": [
        "text = \"I am learning Python programming.\"\n",
        "if \"Python\" in text:\n",
        "    print(\"Yes, Python is present!\")"
      ],
      "metadata": {
        "colab": {
          "base_uri": "https://localhost:8080/"
        },
        "id": "ygivGOo1SZFT",
        "outputId": "f9488533-670c-43a6-fe08-8d20796a8c47"
      },
      "execution_count": null,
      "outputs": [
        {
          "output_type": "stream",
          "name": "stdout",
          "text": [
            "Yes, Python is present!\n"
          ]
        }
      ]
    },
    {
      "cell_type": "markdown",
      "source": [
        "Create a string, convert it to uppercase, lowercase, and title case"
      ],
      "metadata": {
        "id": "I9eTNj4aTcz4"
      }
    },
    {
      "cell_type": "code",
      "source": [
        "text = \"python is fun\"\n",
        "print(text.upper())\n",
        "print(text.lower())\n",
        "print(text.title())"
      ],
      "metadata": {
        "colab": {
          "base_uri": "https://localhost:8080/"
        },
        "id": "4fbp8oRCSZIx",
        "outputId": "27ad238e-c4e6-4e51-bae5-41ad30b882a2"
      },
      "execution_count": null,
      "outputs": [
        {
          "output_type": "stream",
          "name": "stdout",
          "text": [
            "PYTHON IS FUN\n",
            "python is fun\n",
            "Python Is Fun\n"
          ]
        }
      ]
    },
    {
      "cell_type": "markdown",
      "source": [
        "Use type() to display data types before and after casting from string to integer"
      ],
      "metadata": {
        "id": "MfU84qK8ToU8"
      }
    },
    {
      "cell_type": "code",
      "source": [
        "num_str = \"100\"\n",
        "print(type(num_str))   # string\n",
        "num_int = int(num_str)\n",
        "print(type(num_int))"
      ],
      "metadata": {
        "colab": {
          "base_uri": "https://localhost:8080/"
        },
        "id": "Rz4_O7m4SZTp",
        "outputId": "96e0a72c-a214-4763-9855-0af1a657cc79"
      },
      "execution_count": null,
      "outputs": [
        {
          "output_type": "stream",
          "name": "stdout",
          "text": [
            "<class 'str'>\n",
            "<class 'int'>\n"
          ]
        }
      ]
    },
    {
      "cell_type": "markdown",
      "source": [
        "Take user input for name and age. Check if age (casted to int) is above 18 and print eligibility"
      ],
      "metadata": {
        "id": "BM78QbGMTxf9"
      }
    },
    {
      "cell_type": "code",
      "source": [
        "name = input(\"Enter your name: \")\n",
        "age = int(input(\"Enter your age: \"))\n",
        "\n",
        "if age > 18:\n",
        "    print(name, \"is eligible.\")\n",
        "else:\n",
        "    print(name, \"is not eligible.\")"
      ],
      "metadata": {
        "id": "XraImc6USZW7"
      },
      "execution_count": null,
      "outputs": []
    },
    {
      "cell_type": "markdown",
      "source": [
        "Create a variable with mixed-case text. Check if the text is uppercase and print results"
      ],
      "metadata": {
        "id": "aqmDZrzQT6R4"
      }
    },
    {
      "cell_type": "code",
      "source": [
        "text = \"PyThOn\"\n",
        "print(text.isupper())"
      ],
      "metadata": {
        "id": "UEwNrZDsSZal"
      },
      "execution_count": null,
      "outputs": []
    },
    {
      "cell_type": "markdown",
      "source": [
        "Create a string with numbers, convert it to float and int, and print all conversions with their types"
      ],
      "metadata": {
        "id": "2g63G-0WUGha"
      }
    },
    {
      "cell_type": "code",
      "source": [
        "num_str = \"25\"\n",
        "num_float = float(num_str)\n",
        "num_int = int(num_str)\n",
        "\n",
        "print(num_str, type(num_str))\n",
        "print(num_float, type(num_float))\n",
        "print(num_int, type(num_int))"
      ],
      "metadata": {
        "id": "Pip_Hjv7T_hC"
      },
      "execution_count": null,
      "outputs": []
    }
  ]
}