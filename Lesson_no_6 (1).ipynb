{
  "nbformat": 4,
  "nbformat_minor": 0,
  "metadata": {
    "colab": {
      "provenance": []
    },
    "kernelspec": {
      "name": "python3",
      "display_name": "Python 3"
    },
    "language_info": {
      "name": "python"
    }
  },
  "cells": [
    {
      "cell_type": "markdown",
      "source": [
        " **Q1: List of fruits**"
      ],
      "metadata": {
        "id": "R3Svd3Ifp9qh"
      }
    },
    {
      "cell_type": "code",
      "execution_count": null,
      "metadata": {
        "id": "AQoIim9BpFzF"
      },
      "outputs": [],
      "source": [
        "fruits = [\"Mango\", \"Apple\", \"Orange\", \"Grapes\", \"Pineapple\"]\n",
        "\n",
        "print(\"My favorite fruits are:\")\n",
        "for fruit in fruits:\n",
        "    print(fruit)"
      ]
    },
    {
      "cell_type": "markdown",
      "source": [
        "**Q2: Tuple example**"
      ],
      "metadata": {
        "id": "tys-1NvAqRmI"
      }
    },
    {
      "cell_type": "code",
      "source": [
        "person = (\"Taha\", 17, \"Gujranwala\")\n",
        "\n",
        "print(\"Name:\", person[0])\n",
        "print(\"Age:\", person[1])\n",
        "print(\"City:\", person[2])\n"
      ],
      "metadata": {
        "id": "dcjnzxgzpHOe"
      },
      "execution_count": null,
      "outputs": []
    },
    {
      "cell_type": "markdown",
      "source": [
        "**Q3: Dictionary example**"
      ],
      "metadata": {
        "id": "wF9Mmt4sqiLL"
      }
    },
    {
      "cell_type": "code",
      "source": [
        " student = {\n",
        "    \"name\": \"Taha\",\n",
        "    \"class\": \"1st Year\",\n",
        "    \"score\": 95\n",
        "}\n",
        "\n",
        "print(\"Student Information:\")\n",
        "for key, value in student.items():\n",
        "    print(key, \":\", value)"
      ],
      "metadata": {
        "colab": {
          "base_uri": "https://localhost:8080/"
        },
        "id": "h_nOa84fpHQ8",
        "outputId": "ae0897e0-cfd1-40f5-d661-b8a1b09ddbf2"
      },
      "execution_count": 2,
      "outputs": [
        {
          "output_type": "stream",
          "name": "stdout",
          "text": [
            "Student Information:\n",
            "name : Taha\n",
            "class : 1st Year\n",
            "score : 95\n"
          ]
        }
      ]
    },
    {
      "cell_type": "markdown",
      "source": [
        "**Q4: Update fruits list**"
      ],
      "metadata": {
        "id": "YbinCMlxrxXX"
      }
    },
    {
      "cell_type": "code",
      "source": [
        "fruits = [\"Mango\", \"Apple\", \"Orange\", \"Grapes\", \"Pineapple\"]\n",
        "\n",
        "fruits.append(\"Banana\")\n",
        "\n",
        "fruits.remove(\"Apple\")\n",
        "\n",
        "print(\"Updated fruit list:\", fruits)\n",
        "\n"
      ],
      "metadata": {
        "colab": {
          "base_uri": "https://localhost:8080/"
        },
        "id": "bH-CtwYBpHTX",
        "outputId": "3097aecb-3b2b-4f61-a585-12f7f91b50cd"
      },
      "execution_count": 3,
      "outputs": [
        {
          "output_type": "stream",
          "name": "stdout",
          "text": [
            "Updated fruit list: ['Mango', 'Orange', 'Grapes', 'Pineapple', 'Banana']\n"
          ]
        }
      ]
    },
    {
      "cell_type": "markdown",
      "source": [
        "**Q5: Counting items**"
      ],
      "metadata": {
        "id": "k9tHJxuWsBPp"
      }
    },
    {
      "cell_type": "code",
      "source": [
        "fruits = [\"Mango\", \"Apple\", \"Orange\", \"Grapes\", \"Pineapple\"]\n",
        "\n",
        "# Method 1: Using len()\n",
        "print(\"Total items (len):\", len(fruits))\n",
        "\n",
        "# Method 2: Using loop\n",
        "count = 0\n",
        "for fruit in fruits:\n",
        "    count += 1\n",
        "print(\"Total items (loop):\", count)"
      ],
      "metadata": {
        "id": "4rtmwUTTpHV_"
      },
      "execution_count": null,
      "outputs": []
    },
    {
      "cell_type": "markdown",
      "source": [
        "**Q6: Value in Tuple**"
      ],
      "metadata": {
        "id": "17XZlEbIu26C"
      }
    },
    {
      "cell_type": "code",
      "source": [
        "student = (\"Taha\", 17, \"Gujranwala\")\n",
        "\n",
        "if \"Taha\" in student:\n",
        "    print(\"Yes, 'Taha' is in the tuple\")\n",
        "else:\n",
        "    print(\"No, 'Taha' is not in the tuple\")"
      ],
      "metadata": {
        "id": "8CfWxZ-ypHYg"
      },
      "execution_count": null,
      "outputs": []
    },
    {
      "cell_type": "markdown",
      "source": [
        "**Q7: Add to Dictionary**"
      ],
      "metadata": {
        "id": "n3yYgpf-vXlX"
      }
    },
    {
      "cell_type": "code",
      "source": [
        "student = {\n",
        "    \"name\": \"Taha\",\n",
        "    \"class\": \"1st Year\",\n",
        "    \"score\": 95\n",
        "}\n",
        "\n",
        "student[\"age\"] = 17\n",
        "\n",
        "print(\"Updated Dictionary:\")\n",
        "for key, value in student.items():\n",
        "    print(key, \":\", value)"
      ],
      "metadata": {
        "colab": {
          "base_uri": "https://localhost:8080/"
        },
        "id": "Rc8-zXGqpHba",
        "outputId": "068ca60c-b55d-4ceb-c8db-1e4e87ef106f"
      },
      "execution_count": 4,
      "outputs": [
        {
          "output_type": "stream",
          "name": "stdout",
          "text": [
            "Updated Dictionary:\n",
            "name : Taha\n",
            "class : 1st Year\n",
            "score : 95\n",
            "age : 17\n"
          ]
        }
      ]
    },
    {
      "cell_type": "markdown",
      "source": [
        "**Q8: List to Tuple**"
      ],
      "metadata": {
        "id": "JkGcnglnvvg2"
      }
    },
    {
      "cell_type": "code",
      "source": [
        "fruits = [\"Apple\", \"Mango\", \"Orange\"]\n",
        "\n",
        "fruits_tuple = tuple(fruits)\n",
        "\n",
        "print(\"List:\", fruits)\n",
        "print(\"Tuple:\", fruits_tuple)"
      ],
      "metadata": {
        "colab": {
          "base_uri": "https://localhost:8080/"
        },
        "id": "-pYh6X1gpHeY",
        "outputId": "f3155b0a-331d-48bf-8c26-fc559bf86ded"
      },
      "execution_count": 5,
      "outputs": [
        {
          "output_type": "stream",
          "name": "stdout",
          "text": [
            "List: ['Apple', 'Mango', 'Orange']\n",
            "Tuple: ('Apple', 'Mango', 'Orange')\n"
          ]
        }
      ]
    }
  ]
}